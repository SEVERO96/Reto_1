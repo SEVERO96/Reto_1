{
 "cells": [
  {
   "cell_type": "code",
   "execution_count": null,
   "metadata": {},
   "outputs": [],
   "source": []
  },
  {
   "cell_type": "code",
   "execution_count": 14,
   "metadata": {},
   "outputs": [
    {
     "data": {
      "text/html": [
       "<div>\n",
       "<style scoped>\n",
       "    .dataframe tbody tr th:only-of-type {\n",
       "        vertical-align: middle;\n",
       "    }\n",
       "\n",
       "    .dataframe tbody tr th {\n",
       "        vertical-align: top;\n",
       "    }\n",
       "\n",
       "    .dataframe thead th {\n",
       "        text-align: right;\n",
       "    }\n",
       "</style>\n",
       "<table border=\"1\" class=\"dataframe\">\n",
       "  <thead>\n",
       "    <tr style=\"text-align: right;\">\n",
       "      <th></th>\n",
       "      <th>email</th>\n",
       "    </tr>\n",
       "  </thead>\n",
       "  <tbody>\n",
       "    <tr>\n",
       "      <th>0</th>\n",
       "      <td>severo@gmail.com</td>\n",
       "    </tr>\n",
       "    <tr>\n",
       "      <th>1</th>\n",
       "      <td>juanix@gmail.com</td>\n",
       "    </tr>\n",
       "    <tr>\n",
       "      <th>2</th>\n",
       "      <td>perlix@gmail.com</td>\n",
       "    </tr>\n",
       "  </tbody>\n",
       "</table>\n",
       "</div>"
      ],
      "text/plain": [
       "              email\n",
       "0  severo@gmail.com\n",
       "1  juanix@gmail.com\n",
       "2  perlix@gmail.com"
      ]
     },
     "execution_count": 14,
     "metadata": {},
     "output_type": "execute_result"
    }
   ],
   "source": [
    "# importing pandas module\n",
    "import pandas as pd\n",
    "import openpyxl\n",
    "import csv\n",
    "\n",
    "# input excel file path\n",
    "inputExcelFile =\"sampleTutorialsPoint.xlsx\"\n",
    "newWorkbook = openpyxl.load_workbook(inputExcelFile)\n",
    "\n",
    "# Reading an excel file\n",
    "excelFile = pd.read_excel (inputExcelFile)\n",
    "\n",
    "# Converting excel file into CSV file\n",
    "excelFile.to_csv (\"ResultCsvFile.csv\", index = None, header=True)\n",
    "\n",
    "# Reading and Converting the output csv file into a dataframe object\n",
    "dataframeObject = pd.DataFrame(pd.read_csv(\"ResultCsvFile.csv\"))\n",
    "\n",
    "# Displaying the dataframe object\n",
    "dataframeObject\n",
    "\n",
    "dataframeObject[['email']]"
   ]
  }
 ],
 "metadata": {
  "kernelspec": {
   "display_name": "Python 3.10.7 64-bit",
   "language": "python",
   "name": "python3"
  },
  "language_info": {
   "codemirror_mode": {
    "name": "ipython",
    "version": 3
   },
   "file_extension": ".py",
   "mimetype": "text/x-python",
   "name": "python",
   "nbconvert_exporter": "python",
   "pygments_lexer": "ipython3",
   "version": "3.10.7"
  },
  "orig_nbformat": 4,
  "vscode": {
   "interpreter": {
    "hash": "0b314fa8a1936260c0e76a98bbf434964b465e055101ea849ac3705d71a02edb"
   }
  }
 },
 "nbformat": 4,
 "nbformat_minor": 2
}
